{
 "cells": [
  {
   "cell_type": "code",
   "execution_count": 1,
   "metadata": {
    "ExecuteTime": {
     "end_time": "2021-05-12T13:01:57.161103Z",
     "start_time": "2021-05-12T13:01:57.143105Z"
    }
   },
   "outputs": [],
   "source": [
    "from resolute import *"
   ]
  },
  {
   "cell_type": "markdown",
   "metadata": {},
   "source": [
    "## Describing Signatures"
   ]
  },
  {
   "cell_type": "code",
   "execution_count": 2,
   "metadata": {
    "ExecuteTime": {
     "end_time": "2021-05-12T13:02:31.605501Z",
     "start_time": "2021-05-12T13:02:31.593957Z"
    }
   },
   "outputs": [],
   "source": [
    "# predicate and functional symbols have to specify argument count (ar)\n",
    "P = PredicateSymbol(\"P\", 1)\n",
    "Q = PredicateSymbol(\"Q\", 2)\n",
    "f = FunctionalSymbol(\"f\", 1)\n",
    "\n",
    "# constant symbol and variable can be decleared directly\n",
    "a = ConstantSymbol(\"a\")\n",
    "x = Variable(\"x\")\n",
    "y = Variable(\"y\")"
   ]
  },
  {
   "cell_type": "markdown",
   "metadata": {},
   "source": [
    "## Describing Formulas"
   ]
  },
  {
   "cell_type": "code",
   "execution_count": 3,
   "metadata": {
    "ExecuteTime": {
     "end_time": "2021-05-12T13:02:44.917388Z",
     "start_time": "2021-05-12T13:02:44.908836Z"
    }
   },
   "outputs": [],
   "source": [
    "# Possible List: And, Or, Not, Implies, Equivalent\n",
    "simple_formula = P(x)\n",
    "complex_formula = Implies(Or(Not(P(x)), Q(x,y)), And(P(y), Q(y, f(x))))\n",
    "\n",
    "# for quantifiers, variable need to be specified\n",
    "formula_with_quantifier = ForAll(x, P(x))"
   ]
  },
  {
   "cell_type": "markdown",
   "metadata": {},
   "source": [
    "## Call Wrappers"
   ]
  },
  {
   "cell_type": "markdown",
   "metadata": {},
   "source": [
    "### Convert to CNF"
   ]
  },
  {
   "cell_type": "code",
   "execution_count": 6,
   "metadata": {
    "ExecuteTime": {
     "end_time": "2021-05-12T13:03:48.034711Z",
     "start_time": "2021-05-12T13:03:48.024704Z"
    }
   },
   "outputs": [
    {
     "data": {
      "text/plain": [
       "((AF(PS('P', 1), [Var('$r1')]) ∧ ¬(AF(PS('Q', 2), [Var('$r1'), Var('$r2')]))) ∨ (AF(PS('P', 1), [Var('$r2')]) ∧ AF(PS('Q', 2), [Var('$r2'), T(FS('f', 1), [Var('x')])])))"
      ]
     },
     "execution_count": 6,
     "metadata": {},
     "output_type": "execute_result"
    }
   ],
   "source": [
    "# for convert to CNF, use `normQ.py`\n",
    "# main wrapper is to_CNF_Q\n",
    "to_CNF_Q(complex_formula)"
   ]
  },
  {
   "cell_type": "markdown",
   "metadata": {},
   "source": [
    "### Find MGU"
   ]
  },
  {
   "cell_type": "code",
   "execution_count": 8,
   "metadata": {
    "ExecuteTime": {
     "end_time": "2021-05-12T13:04:54.468848Z",
     "start_time": "2021-05-12T13:04:54.461845Z"
    }
   },
   "outputs": [],
   "source": [
    "x = Variable(\"x\")\n",
    "y = Variable(\"y\")\n",
    "z = Variable(\"z\")\n",
    "f = FunctionalSymbol(\"f\", 2)\n",
    "g = FunctionalSymbol(\"g\", 1)\n",
    "h = FunctionalSymbol(\"h\", 1)\n",
    "P = PredicateSymbol(\"P\", 2)\n",
    "\n",
    "a = ConstantSymbol(\"a\")\n",
    "b = ConstantSymbol(\"b\")\n",
    "\n",
    "formula1 = P(y, f(x,y))\n",
    "formula2 = P(b, f(a,y))"
   ]
  },
  {
   "cell_type": "code",
   "execution_count": 9,
   "metadata": {
    "ExecuteTime": {
     "end_time": "2021-05-12T13:04:54.809583Z",
     "start_time": "2021-05-12T13:04:54.795490Z"
    }
   },
   "outputs": [
    {
     "name": "stdout",
     "output_type": "stream",
     "text": [
      "input literal 1: L(AF(PS('P', 2), [Var('y'), T(FS('f', 2), [Var('x'), Var('y')])]))\n",
      "input literal 2: L(AF(PS('P', 2), [CS('b'), T(FS('f', 2), [CS('a'), Var('y')])]))\n",
      "find MGU: True [ST[Var('y')/CS('b')], ST[Var('x')/CS('a')]]\n",
      "after substitution\n",
      "L(AF(PS('P', 2), [CS('b'), T(FS('f', 2), [CS('a'), CS('b')])]))\n",
      "L(AF(PS('P', 2), [CS('b'), T(FS('f', 2), [CS('a'), CS('b')])]))\n"
     ]
    }
   ],
   "source": [
    "# for find MGU, use `mgu.py`\n",
    "# main wrapper is find_mgu\n",
    "literal1 = Literal(formula1)\n",
    "literal2 = Literal(formula2)\n",
    "\n",
    "print(\"input literal 1:\", literal1)\n",
    "print(\"input literal 2:\", literal2)\n",
    "\n",
    "subs = []\n",
    "found, found_subs = find_mgu(literal1, literal2, substitutions=subs)\n",
    "print(\"find MGU:\", found, found_subs)\n",
    "if found:\n",
    "    print(\"after substitution\")\n",
    "    apply_substitution(literal1, found_subs)\n",
    "    apply_substitution(literal2, found_subs)\n",
    "    print(literal1)\n",
    "    print(literal2)"
   ]
  },
  {
   "cell_type": "markdown",
   "metadata": {},
   "source": [
    "### Perform Resolution"
   ]
  },
  {
   "cell_type": "code",
   "execution_count": 10,
   "metadata": {
    "ExecuteTime": {
     "end_time": "2021-05-12T13:05:21.193471Z",
     "start_time": "2021-05-12T13:05:21.186474Z"
    }
   },
   "outputs": [],
   "source": [
    "B = PredicateSymbol(\"Barber\", 1)\n",
    "S = PredicateSymbol(\"Shave\", 2)\n",
    "x = Variable(\"x\")\n",
    "y = Variable(\"y\")\n",
    "\n",
    "f1 = ForAll(x, ForAll(y, Implies(And(B(x), Not(S(y, y))), S(x, y))))\n",
    "f2 = Not(Exists(x, Exists(y, And(B(x), And(S(x, y), S(y, y))))))\n",
    "query = Not(Exists(x, B(x)))"
   ]
  },
  {
   "cell_type": "code",
   "execution_count": 12,
   "metadata": {
    "ExecuteTime": {
     "end_time": "2021-05-12T13:05:26.549640Z",
     "start_time": "2021-05-12T13:05:26.515631Z"
    }
   },
   "outputs": [
    {
     "name": "stdout",
     "output_type": "stream",
     "text": [
      "1 {L(AF(PS('Shave', 2), [Var('x'), Var('y')])), ¬L(AF(PS('Barber', 1), [Var('x')])), L(AF(PS('Shave', 2), [Var('y'), Var('y')]))}\n",
      "2 {¬L(AF(PS('Shave', 2), [Var('y'), Var('y')])), ¬L(AF(PS('Shave', 2), [Var('x'), Var('y')])), ¬L(AF(PS('Barber', 1), [Var('x')]))}\n",
      "3 {L(AF(PS('Barber', 1), [CS('$c1')]))}\n",
      "done (3, 1) new: 4 {L(AF(PS('Shave', 2), [CS('$c1'), Var('y')])), L(AF(PS('Shave', 2), [Var('y'), Var('y')]))}\n",
      "done (3, 2) new: 5 {¬L(AF(PS('Shave', 2), [Var('y'), Var('y')])), ¬L(AF(PS('Shave', 2), [CS('$c1'), Var('y')]))}\n",
      "done (5, 4) new: 6 {L(AF(PS('Shave', 2), [CS('$c1'), CS('$c1')]))}\n",
      "done (6, 5) new: 7 {¬L(AF(PS('Shave', 2), [CS('$c1'), CS('$c1')]))}\n",
      "found empty clause!\n",
      "[(3, 1, 4, [ST[Var('x')/CS('$c1')]]), (3, 2, 5, [ST[Var('x')/CS('$c1')]]), (5, 4, 6, [ST[Var('y')/CS('$c1')]]), (6, 5, 7, [ST[Var('y')/CS('$c1')]]), (7, 6, 8, [])]\n",
      "\n",
      "3 {L(AF(PS('Barber', 1), [CS('$c1')]))}\n",
      "1 {L(AF(PS('Shave', 2), [Var('x'), Var('y')])), ¬L(AF(PS('Barber', 1), [Var('x')])), L(AF(PS('Shave', 2), [Var('y'), Var('y')]))}\n",
      "θ [ST[Var('x')/CS('$c1')]]\n",
      "-> 4 {L(AF(PS('Shave', 2), [CS('$c1'), Var('y')])), L(AF(PS('Shave', 2), [Var('y'), Var('y')]))}\n",
      "-----------\n",
      "3 {L(AF(PS('Barber', 1), [CS('$c1')]))}\n",
      "2 {¬L(AF(PS('Shave', 2), [Var('y'), Var('y')])), ¬L(AF(PS('Shave', 2), [Var('x'), Var('y')])), ¬L(AF(PS('Barber', 1), [Var('x')]))}\n",
      "θ [ST[Var('x')/CS('$c1')]]\n",
      "-> 5 {¬L(AF(PS('Shave', 2), [Var('y'), Var('y')])), ¬L(AF(PS('Shave', 2), [CS('$c1'), Var('y')]))}\n",
      "-----------\n",
      "5 {¬L(AF(PS('Shave', 2), [Var('y'), Var('y')])), ¬L(AF(PS('Shave', 2), [CS('$c1'), Var('y')]))}\n",
      "4 {L(AF(PS('Shave', 2), [CS('$c1'), Var('y')])), L(AF(PS('Shave', 2), [Var('y'), Var('y')]))}\n",
      "θ [ST[Var('y')/CS('$c1')]]\n",
      "-> 6 {L(AF(PS('Shave', 2), [CS('$c1'), CS('$c1')]))}\n",
      "-----------\n",
      "6 {L(AF(PS('Shave', 2), [CS('$c1'), CS('$c1')]))}\n",
      "5 {¬L(AF(PS('Shave', 2), [Var('y'), Var('y')])), ¬L(AF(PS('Shave', 2), [CS('$c1'), Var('y')]))}\n",
      "θ [ST[Var('y')/CS('$c1')]]\n",
      "-> 7 {¬L(AF(PS('Shave', 2), [CS('$c1'), CS('$c1')]))}\n",
      "-----------\n",
      "7 {¬L(AF(PS('Shave', 2), [CS('$c1'), CS('$c1')]))}\n",
      "6 {L(AF(PS('Shave', 2), [CS('$c1'), CS('$c1')]))}\n",
      "θ []\n",
      "-> 8 set()\n",
      "-----------\n",
      "Resolutes: True\n"
     ]
    }
   ],
   "source": [
    "print(\"Resolutes:\", resolution_wrapper([f1, f2,Not(query)]))"
   ]
  }
 ],
 "metadata": {
  "kernelspec": {
   "display_name": "Python 3",
   "language": "python",
   "name": "python3"
  },
  "language_info": {
   "codemirror_mode": {
    "name": "ipython",
    "version": 3
   },
   "file_extension": ".py",
   "mimetype": "text/x-python",
   "name": "python",
   "nbconvert_exporter": "python",
   "pygments_lexer": "ipython3",
   "version": "3.8.3"
  }
 },
 "nbformat": 4,
 "nbformat_minor": 4
}
